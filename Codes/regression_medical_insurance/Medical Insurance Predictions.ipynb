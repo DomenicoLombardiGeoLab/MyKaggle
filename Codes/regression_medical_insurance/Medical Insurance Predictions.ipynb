{
 "cells": [
  {
   "cell_type": "code",
   "execution_count": 1,
   "id": "15c7cd91",
   "metadata": {},
   "outputs": [],
   "source": [
    "# Import required libraries \n",
    "import pandas as pd\n",
    "import numpy as np\n",
    "import matplotlib.pyplot as plt\n",
    "import seaborn as sns\n",
    "import tensorflow as tf"
   ]
  },
  {
   "cell_type": "code",
   "execution_count": 2,
   "id": "d64fcaec",
   "metadata": {},
   "outputs": [
    {
     "data": {
      "text/html": [
       "<div>\n",
       "<style scoped>\n",
       "    .dataframe tbody tr th:only-of-type {\n",
       "        vertical-align: middle;\n",
       "    }\n",
       "\n",
       "    .dataframe tbody tr th {\n",
       "        vertical-align: top;\n",
       "    }\n",
       "\n",
       "    .dataframe thead th {\n",
       "        text-align: right;\n",
       "    }\n",
       "</style>\n",
       "<table border=\"1\" class=\"dataframe\">\n",
       "  <thead>\n",
       "    <tr style=\"text-align: right;\">\n",
       "      <th></th>\n",
       "      <th>age</th>\n",
       "      <th>sex</th>\n",
       "      <th>bmi</th>\n",
       "      <th>children</th>\n",
       "      <th>smoker</th>\n",
       "      <th>region</th>\n",
       "      <th>charges</th>\n",
       "    </tr>\n",
       "  </thead>\n",
       "  <tbody>\n",
       "    <tr>\n",
       "      <th>0</th>\n",
       "      <td>19</td>\n",
       "      <td>female</td>\n",
       "      <td>27.900</td>\n",
       "      <td>0</td>\n",
       "      <td>yes</td>\n",
       "      <td>southwest</td>\n",
       "      <td>16884.92400</td>\n",
       "    </tr>\n",
       "    <tr>\n",
       "      <th>1</th>\n",
       "      <td>18</td>\n",
       "      <td>male</td>\n",
       "      <td>33.770</td>\n",
       "      <td>1</td>\n",
       "      <td>no</td>\n",
       "      <td>southeast</td>\n",
       "      <td>1725.55230</td>\n",
       "    </tr>\n",
       "    <tr>\n",
       "      <th>2</th>\n",
       "      <td>28</td>\n",
       "      <td>male</td>\n",
       "      <td>33.000</td>\n",
       "      <td>3</td>\n",
       "      <td>no</td>\n",
       "      <td>southeast</td>\n",
       "      <td>4449.46200</td>\n",
       "    </tr>\n",
       "    <tr>\n",
       "      <th>3</th>\n",
       "      <td>33</td>\n",
       "      <td>male</td>\n",
       "      <td>22.705</td>\n",
       "      <td>0</td>\n",
       "      <td>no</td>\n",
       "      <td>northwest</td>\n",
       "      <td>21984.47061</td>\n",
       "    </tr>\n",
       "    <tr>\n",
       "      <th>4</th>\n",
       "      <td>32</td>\n",
       "      <td>male</td>\n",
       "      <td>28.880</td>\n",
       "      <td>0</td>\n",
       "      <td>no</td>\n",
       "      <td>northwest</td>\n",
       "      <td>3866.85520</td>\n",
       "    </tr>\n",
       "  </tbody>\n",
       "</table>\n",
       "</div>"
      ],
      "text/plain": [
       "   age     sex     bmi  children smoker     region      charges\n",
       "0   19  female  27.900         0    yes  southwest  16884.92400\n",
       "1   18    male  33.770         1     no  southeast   1725.55230\n",
       "2   28    male  33.000         3     no  southeast   4449.46200\n",
       "3   33    male  22.705         0     no  northwest  21984.47061\n",
       "4   32    male  28.880         0     no  northwest   3866.85520"
      ]
     },
     "execution_count": 2,
     "metadata": {},
     "output_type": "execute_result"
    }
   ],
   "source": [
    "# Load data set\n",
    "# Read in the insurance dataset from github repository\n",
    "url = \"https://raw.githubusercontent.com/stedy/Machine-Learning-with-R-datasets/master/insurance.csv\"\n",
    "insurance = pd.read_csv(url)\n",
    "insurance.head()"
   ]
  },
  {
   "cell_type": "code",
   "execution_count": null,
   "id": "b34f5ea9",
   "metadata": {},
   "outputs": [],
   "source": [
    "# See info\n",
    "insurance.info()"
   ]
  },
  {
   "cell_type": "code",
   "execution_count": null,
   "id": "2b28fe90",
   "metadata": {},
   "outputs": [],
   "source": [
    "# see summary statistics and transpose output\n",
    "insurance.describe().T"
   ]
  },
  {
   "cell_type": "code",
   "execution_count": null,
   "id": "36dffea5",
   "metadata": {},
   "outputs": [],
   "source": [
    "# Explore correlation between data and plot correlation matrix heatmap\n",
    "insurance.corr()\n",
    "dataplot = sns.heatmap(insurance.corr(), cmap='YlGnBu', annot = True)"
   ]
  },
  {
   "cell_type": "code",
   "execution_count": null,
   "id": "c74302e0",
   "metadata": {},
   "outputs": [],
   "source": [
    "fig, axes = plt.subplots(3,2,dpi=100,figsize=(10,8))\n",
    "sns.scatterplot(x='age', y='charges', data = insurance, hue = 'smoker',ax = axes[0][0])\n",
    "sns.scatterplot(x='age', y='charges', data = insurance, hue = 'bmi', ax = axes[1][0])\n",
    "sns.scatterplot(x='age', y='charges', data = insurance, hue = 'region',ax = axes[2][0])\n",
    "\n",
    "sns.scatterplot(x='bmi', y='charges', data = insurance, hue = 'smoker', ax = axes[0][1])\n",
    "sns.scatterplot(x='bmi', y='charges', data = insurance, hue = 'age', ax = axes[1][1])\n",
    "sns.scatterplot(x='bmi', y='charges', data = insurance, hue = 'region', ax = axes[2][1])\n",
    "\n",
    "plt.tight_layout()\n"
   ]
  },
  {
   "cell_type": "code",
   "execution_count": null,
   "id": "eab48c3c",
   "metadata": {
    "scrolled": true
   },
   "outputs": [],
   "source": [
    "# one-hot encode categorical features into arrays\n",
    "#insurance_onehot_encoding = pd.get_dummies(insurance)\n",
    "#insurance_onehot_encoding.head()"
   ]
  },
  {
   "cell_type": "code",
   "execution_count": null,
   "id": "403d54a2",
   "metadata": {},
   "outputs": [],
   "source": [
    "# one-hot encode categorical features into arrays\n",
    "#insurance_onehot_encoding_reduced = pd.get_dummies(insurance, drop_first = True,)\n",
    "#insurance_onehot_encoding_reduced.head()"
   ]
  },
  {
   "cell_type": "code",
   "execution_count": null,
   "id": "8fe2835a",
   "metadata": {},
   "outputs": [],
   "source": [
    "# Split data into features (independent variable) and label (dependent variable)\n",
    "X = insurance.drop(['charges','region'], axis = 1) #ignore region feature as not corralated\n",
    "y = insurance['charges']"
   ]
  },
  {
   "cell_type": "code",
   "execution_count": null,
   "id": "aa9a6b1a",
   "metadata": {},
   "outputs": [],
   "source": [
    "X.head()"
   ]
  },
  {
   "cell_type": "code",
   "execution_count": null,
   "id": "f25bbefe",
   "metadata": {},
   "outputs": [],
   "source": [
    "y.head()"
   ]
  },
  {
   "cell_type": "code",
   "execution_count": null,
   "id": "c7746e33",
   "metadata": {},
   "outputs": [],
   "source": [
    "# Create train and test data sets\n",
    "from sklearn.model_selection import train_test_split\n",
    "\n",
    "X_train, X_test, y_train, y_test = train_test_split(X, y, test_size=0.15, random_state=42)"
   ]
  },
  {
   "cell_type": "code",
   "execution_count": null,
   "id": "49358bc1",
   "metadata": {},
   "outputs": [],
   "source": [
    "# data preparartion with scaling/normalization\n",
    "\n",
    "from sklearn.compose import make_column_transformer\n",
    "from sklearn.preprocessing import MinMaxScaler, OneHotEncoder\n",
    "\n",
    "# Create a column transformer \n",
    "\n",
    "ct = make_column_transformer(\n",
    "\n",
    "    (MinMaxScaler(),['bmi','age','children']), # turn all values in these columns in numbers between 0 and 1\n",
    "    (OneHotEncoder(handle_unknown='ignore'),['sex','smoker','region'])\n",
    "    \n",
    ")\n"
   ]
  },
  {
   "cell_type": "code",
   "execution_count": null,
   "id": "d485437a",
   "metadata": {},
   "outputs": [],
   "source": [
    "#Fit column transformer to training data\n",
    "# data preparartion with scaling/normalization\n",
    "\n",
    "from sklearn.compose import make_column_transformer\n",
    "from sklearn.preprocessing import MinMaxScaler, OneHotEncoder\n",
    "\n",
    "# Create a column transformer \n",
    "\n",
    "ct = make_column_transformer(\n",
    "\n",
    "    (MinMaxScaler(),['bmi','age','children']), # turn all values in these columns in numbers between 0 and 1\n",
    "    (OneHotEncoder(handle_unknown='ignore', drop = 'first'),['sex','smoker'])\n",
    "    \n",
    ")\n"
   ]
  },
  {
   "cell_type": "code",
   "execution_count": null,
   "id": "6cbf25ae",
   "metadata": {},
   "outputs": [],
   "source": [
    "# fit the column transformer to the training data only (test data should not be revealed and used)\n",
    "ct.fit(X_train)"
   ]
  },
  {
   "cell_type": "code",
   "execution_count": null,
   "id": "60096b6a",
   "metadata": {},
   "outputs": [],
   "source": [
    "# transform both train and test data sets with normalization (MinMaxScaler) and one-hot encoding\n",
    "X_train_normal = ct.transform(X_train)\n",
    "X_test_normal = ct.transform(X_test)"
   ]
  },
  {
   "cell_type": "code",
   "execution_count": null,
   "id": "df07f0cb",
   "metadata": {},
   "outputs": [],
   "source": [
    "type(X_train_normal)"
   ]
  },
  {
   "cell_type": "code",
   "execution_count": null,
   "id": "6e3e72f2",
   "metadata": {},
   "outputs": [],
   "source": [
    "X_train_normal.shape"
   ]
  },
  {
   "cell_type": "code",
   "execution_count": null,
   "id": "0eaf2cb6",
   "metadata": {},
   "outputs": [],
   "source": [
    "# Build neural network \n",
    "# set random seed \n",
    "tf.random.set_seed(42)\n",
    "# 1 Create the model\n",
    "insurance_model = tf.keras.Sequential([\n",
    "    tf.keras.Input(shape=(5,)),\n",
    "    tf.keras.layers.Dense(10, name = 'FirstLayer'),\n",
    "    tf.keras.layers.Dense(1, name = 'SecondLayer'),\n",
    "    \n",
    "\n",
    "])\n",
    "\n",
    "# 2. Compile the model\n",
    "\n",
    "insurance_model.compile(\n",
    "    optimizer=tf.keras.optimizers.Adam(learning_rate=0.1),\n",
    "    loss=tf.keras.losses.mae,\n",
    "    metrics=['mae'])\n",
    "\n",
    "# 3. Fit model\n",
    "#set early stop callback\n",
    "callback = tf.keras.callbacks.EarlyStopping(monitor='loss', min_delta=0.01, patience=20)\n",
    "\n",
    "history = insurance_model.fit(x = X_train_normal,  y = y_train, epochs=500, verbose=1,callbacks=[callback])"
   ]
  },
  {
   "cell_type": "code",
   "execution_count": null,
   "id": "75259c16",
   "metadata": {},
   "outputs": [],
   "source": [
    "insurance_model.summary()"
   ]
  },
  {
   "cell_type": "code",
   "execution_count": null,
   "id": "2a784883",
   "metadata": {},
   "outputs": [],
   "source": [
    "tf.keras.utils.plot_model(insurance_model,\n",
    "    show_shapes=True,\n",
    "    show_layer_names=True,\n",
    "    rankdir='TB',\n",
    "    expand_nested=True,\n",
    "    dpi=100)\n"
   ]
  },
  {
   "cell_type": "code",
   "execution_count": null,
   "id": "76b63193",
   "metadata": {},
   "outputs": [],
   "source": [
    "insurance_model.evaluate(x = X_test_normal, y = y_test)"
   ]
  },
  {
   "cell_type": "code",
   "execution_count": null,
   "id": "fe41a8ca",
   "metadata": {},
   "outputs": [],
   "source": [
    "# plot history or loss curve/ training curve\n",
    "df = pd.DataFrame(history.history)\n",
    "df.head()"
   ]
  },
  {
   "cell_type": "code",
   "execution_count": null,
   "id": "217e2007",
   "metadata": {},
   "outputs": [],
   "source": [
    "plt.figure(dpi=100)\n",
    "plt.plot(df['loss'])\n",
    "plt.ylabel('Loss')\n",
    "plt.xlabel('epochs')"
   ]
  },
  {
   "cell_type": "code",
   "execution_count": null,
   "id": "b6265b84",
   "metadata": {},
   "outputs": [],
   "source": []
  }
 ],
 "metadata": {
  "kernelspec": {
   "display_name": "Python 3 (ipykernel)",
   "language": "python",
   "name": "python3"
  },
  "language_info": {
   "codemirror_mode": {
    "name": "ipython",
    "version": 3
   },
   "file_extension": ".py",
   "mimetype": "text/x-python",
   "name": "python",
   "nbconvert_exporter": "python",
   "pygments_lexer": "ipython3",
   "version": "3.8.13"
  }
 },
 "nbformat": 4,
 "nbformat_minor": 5
}
